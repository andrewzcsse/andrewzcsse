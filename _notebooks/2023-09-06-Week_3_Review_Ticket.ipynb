{
 "cells": [
  {
   "cell_type": "code",
   "execution_count": null,
   "metadata": {},
   "outputs": [],
   "source": [
    "---\n",
    "toc: true\n",
    "comments: false\n",
    "layout: post\n",
    "title: Week 3 Review Ticket\n",
    "type: tangibles\n",
    "description: Summary of what I learned and accomplished in week 3\n",
    "courses: { compsci: {week: 3} }\n",
    "---"
   ]
  },
  {
   "cell_type": "markdown",
   "metadata": {},
   "source": [
    "# Accomplishments\n",
    "- I was able to successfully edit the color of the background and the apple in the snake game\n",
    "- I started blogging my hacks, plans, and tangibles in .ipynb notebooks as opposed to .md posts\n",
    "- I started working on how to run bash commands on my blog through linux, still working on how to successfully apply\n",
    " - My code works but bash commands will not run\n",
    "- I learned how to create and edit basic html tables"
   ]
  },
  {
   "cell_type": "markdown",
   "metadata": {},
   "source": [
    "# Findings\n",
    "- I learned about looking into pre-existing code so that I can edit it to fill whatever need I may have for my blog"
   ]
  }
 ],
 "metadata": {
  "language_info": {
   "name": "python"
  },
  "orig_nbformat": 4
 },
 "nbformat": 4,
 "nbformat_minor": 2
}
