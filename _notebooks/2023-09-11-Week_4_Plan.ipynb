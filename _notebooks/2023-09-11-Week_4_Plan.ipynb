{
 "cells": [
  {
   "cell_type": "markdown",
   "metadata": {},
   "source": [
    "---\n",
    "comments: False\n",
    "title: Week 4 Plan\n",
    "description: Summary of what I plan to accomplish in week 4\n",
    "layout: post\n",
    "type: plans\n",
    "courses: { compsci: {week: 4} }\n",
    "toc: True\n",
    "--- "
   ]
  },
  {
   "cell_type": "markdown",
   "metadata": {},
   "source": [
    "# Weekly Schedule\n",
    "- Start to work with JS output and input w/ objects\n",
    "- Get introduced to agile methodology\n",
    "- Start work on calculator reviews"
   ]
  }
 ],
 "metadata": {
  "kernelspec": {
   "display_name": "Python 3",
   "language": "python",
   "name": "python3"
  },
  "language_info": {
   "codemirror_mode": {
    "name": "ipython",
    "version": 3
   },
   "file_extension": ".py",
   "mimetype": "text/x-python",
   "name": "python",
   "nbconvert_exporter": "python",
   "pygments_lexer": "ipython3",
   "version": "3.10.12"
  },
  "orig_nbformat": 4
 },
 "nbformat": 4,
 "nbformat_minor": 2
}
