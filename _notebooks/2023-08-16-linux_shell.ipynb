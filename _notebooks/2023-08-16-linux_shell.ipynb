{
 "cells": [
  {
   "attachments": {},
   "cell_type": "markdown",
   "metadata": {},
   "source": [
    "---\n",
    "layout: post\n",
    "title: Linux Shell and Bash\n",
    "description: A Tech Talk on Linux and the Bash shell.\n",
    "toc: true\n",
    "comments: true\n",
    "categories: [5.A, C4.1]\n",
    "courses: { csse: {week: 1}, csp: {week: 1, categories: [6.B]}, csa: {week: 1} }\n",
    "type: devops\n",
    "---"
   ]
  },
  {
   "attachments": {},
   "cell_type": "markdown",
   "metadata": {},
   "source": [
    "## XXX Bash Tutorial\n",
    "> A brief overview of Bash, on your way to becoming a Linux expert.  <mark>When a computer boots up, a kernel (MacOS, Windows, Linux) is started</mark>.  This kernel provides a shell, or <mark>terminal</mark>, that allows user to interact with a most basic set of commands.  Typically, the casual user will not interact with the shell/terminal as a Desktop User Interface is started by the computer boot up process.  To activate a shell directly, users will run a \"terminal\" through the Desktop. <mark>VS Code provides ability to activate \"terminal\"</mark> while in the IDE."
   ]
  },
  {
   "attachments": {},
   "cell_type": "markdown",
   "metadata": {},
   "source": [
    "## Variable Prerequisites\n",
    "> Setup bash shell dependency variables for this page.  Variables are one of the first aspects of programming.  <mark>Variables have \"name\" and a \"value\"</mark>.\n",
    "\n",
    "- Hack Note: Change variables to match your student project."
   ]
  },
  {
   "cell_type": "markdown",
   "metadata": {},
   "source": [
    "### Define variable\n",
    "The following code cell <mark>defines 3 variables and assigns each a value</mark>.  There are some extra command, called a HERE document, that write these variables to a file.  This is so we can use these variables over and over below."
   ]
  },
  {
   "cell_type": "code",
   "execution_count": 1,
   "metadata": {
    "vscode": {
     "languageId": "shellscript"
    }
   },
   "outputs": [],
   "source": [
    "%%script bash\n",
    "\n",
    "# Dependency Variables, set to match your project directories\n",
    "\n",
    "cat <<EOF > /tmp/variables.sh\n",
    "export project_dir=$HOME/vscode  # change vscode to different name to test git clone\n",
    "export project=\\$project_dir/teacher  # change teacher to name of project from git clone\n",
    "export project_repo=\"https://github.com/nighthawkcoders/teacher.git\"  # change to project of choice\n",
    "EOF"
   ]
  },
  {
   "cell_type": "markdown",
   "metadata": {},
   "source": [
    "### Output the value of a variable\n",
    "The following code cell <mark>outputs the value of the variables</mark>, using the echo command.  For visual understanding in the output, each echo command provide a title before the $variable "
   ]
  },
  {
   "cell_type": "code",
   "execution_count": 2,
   "metadata": {
    "vscode": {
     "languageId": "shellscript"
    }
   },
   "outputs": [
    {
     "name": "stdout",
     "output_type": "stream",
     "text": [
      "Project dir: /home/kasm-user/vscode\n",
      "Project: /home/kasm-user/vscode/teacher\n",
      "Repo: https://github.com/nighthawkcoders/teacher.git\n"
     ]
    }
   ],
   "source": [
    "%%script bash\n",
    "\n",
    "# Extract saved variables\n",
    "source /tmp/variables.sh\n",
    "\n",
    "# Output shown title and value variables\n",
    "echo \"Project dir: $project_dir\"\n",
    "echo \"Project: $project\"\n",
    "echo \"Repo: $project_repo\""
   ]
  },
  {
   "cell_type": "markdown",
   "metadata": {},
   "source": [
    "## Project Setup and Analysis with Bash Scripts\n",
    "The bash scripts that follow automate what was done in the setup procedures.  The purpose of this is to show that many of the commands we performed can be added to a script, then performed automatically."
   ]
  },
  {
   "attachments": {},
   "cell_type": "markdown",
   "metadata": {},
   "source": [
    "### Pull Code\n",
    "> Pull code from GitHub to your machine. This is a <mark>bash script</mark>, a sequence of commands, that will create a project directory and add the \"project\" from GitHub to the vscode directory.  There is conditional logic to make sure that clone only happen if it does not (!) exist.   Here are some key elements in this code...\n",
    "\n",
    "- cd command (change directory), remember this from terminal session\n",
    "- if statements (conditional statement, called selection statement by College Board), code inside only happens if condition is met"
   ]
  },
  {
   "cell_type": "code",
   "execution_count": 2,
   "metadata": {
    "vscode": {
     "languageId": "shellscript"
    }
   },
   "outputs": [
    {
     "name": "stdout",
     "output_type": "stream",
     "text": [
      "Using conditional statement to create a project directory and project\n",
      "Directory /home/kasm-user/vscode exists.\n",
      "Directory /home/kasm-user/vscode/teacher exists.\n"
     ]
    }
   ],
   "source": [
    "%%script bash\n",
    "\n",
    "# Extract saved variables\n",
    "source /tmp/variables.sh\n",
    "\n",
    "echo \"Using conditional statement to create a project directory and project\"\n",
    "\n",
    "cd ~    # start in home directory\n",
    "\n",
    "# Conditional block to make a project directory\n",
    "if [ ! -d $project_dir ]\n",
    "then \n",
    "    echo \"Directory $project_dir does not exists... makinng directory $project_dir\"\n",
    "    mkdir -p $project_dir\n",
    "fi\n",
    "echo \"Directory $project_dir exists.\" \n",
    "\n",
    "# Conditional block to git clone a project from project_repo\n",
    "if [ ! -d $project ]\n",
    "then\n",
    "    echo \"Directory $project does not exists... cloning $project_repo\"\n",
    "    cd $project_dir\n",
    "    git clone $project_repo\n",
    "    cd ~\n",
    "fi\n",
    "echo \"Directory $project exists.\" "
   ]
  },
  {
   "attachments": {},
   "cell_type": "markdown",
   "metadata": {},
   "source": [
    "### Look at files Github project\n",
    "> All computers contain files and directories.  The clone brought more files from cloud to your machine.  Review the bash shell script, observe the commands that show and interact with files and directories.  These were used during setup.\n",
    "\n",
    "- \"ls\" lists computer files in Unix and Unix-like operating systems\n",
    "- \"cd\" offers way to navigate and change working directory\n",
    "- \"pwd\" print working directory\n",
    "- \"echo\" used to display line of text/string that are passed as an argument"
   ]
  },
  {
   "cell_type": "code",
   "execution_count": 1,
   "metadata": {
    "vscode": {
     "languageId": "shellscript"
    }
   },
   "outputs": [
    {
     "name": "stdout",
     "output_type": "stream",
     "text": [
      "Navigate to project, then navigate to area wwhere files were cloned\n",
      "/home/kasm-user\n",
      "\n",
      "list top level or root of files with project pulled from github\n",
      "Desktop\n",
      "Documents\n",
      "Downloads\n",
      "gems\n",
      "Music\n",
      "Pictures\n",
      "Public\n",
      "teacher\n",
      "Templates\n",
      "Uploads\n",
      "Videos\n",
      "vscode\n"
     ]
    },
    {
     "name": "stderr",
     "output_type": "stream",
     "text": [
      "bash: line 3: /tmp/variables.sh: No such file or directory\n"
     ]
    }
   ],
   "source": [
    "%%script bash\n",
    "\n",
    "# Extract saved variables\n",
    "source /tmp/variables.sh\n",
    "\n",
    "echo \"Navigate to project, then navigate to area wwhere files were cloned\"\n",
    "cd $project\n",
    "pwd\n",
    "\n",
    "echo \"\"\n",
    "echo \"list top level or root of files with project pulled from github\"\n",
    "ls\n"
   ]
  },
  {
   "attachments": {},
   "cell_type": "markdown",
   "metadata": {},
   "source": [
    "### Look at file list with hidden and long attributes\n",
    "> Most linux commands have options to enhance behavior.  The enhanced listing below shows permission bits, owner of file, size and date.\n",
    "\n",
    "[ls reference](https://www.rapidtables.com/code/linux/ls.html)"
   ]
  },
  {
   "cell_type": "code",
   "execution_count": 2,
   "metadata": {
    "vscode": {
     "languageId": "shellscript"
    }
   },
   "outputs": [
    {
     "name": "stdout",
     "output_type": "stream",
     "text": [
      "Navigate to project, then navigate to area wwhere files were cloned\n",
      "/home/kasm-user\n",
      "\n",
      "list all files in long format\n",
      "total 136\n",
      "drwxrwxrwx 26 kasm-user kasm-user 4096 Aug 24 17:09 .\n",
      "drwxr-xr-x  1 root      root      4096 Aug 12 05:07 ..\n",
      "-rw-------  1 kasm-user kasm-user  946 Aug 24 17:12 .bash_history\n",
      "-rw-rw-rw-  1 kasm-user kasm-user  341 Aug 22 18:49 .bashrc\n",
      "drwxr-xr-x  3 kasm-user kasm-user 4096 Aug 18 20:28 .bundle\n",
      "drwxr-xr-x 11 kasm-user kasm-user 4096 Aug 18 20:30 .cache\n",
      "drwxrwxrwx 11 kasm-user kasm-user 4096 Aug 24 17:09 .config\n",
      "drwx------  3 kasm-user kasm-user 4096 Aug 18 19:30 .dbus\n",
      "drwxrwxrwx  2 kasm-user kasm-user 4096 Aug 18 19:30 Desktop\n",
      "drwxr-xr-x  2 kasm-user kasm-user 4096 Aug 18 19:30 Documents\n",
      "drwxr-xr-x  3 kasm-user kasm-user 4096 Aug 22 19:12 .dotnet\n",
      "drwxr-xr-x  2 kasm-user kasm-user 4096 Aug 23 20:00 Downloads\n",
      "drwxr-xr-x 10 kasm-user kasm-user 4096 Aug 21 19:42 gems\n",
      "-rw-r--r--  1 kasm-user kasm-user   67 Aug 22 18:39 .gitconfig\n",
      "drwx------  3 kasm-user kasm-user 4096 Aug 18 20:32 .gnome\n",
      "drwx------  3 kasm-user kasm-user 4096 Aug 24 17:09 .gnupg\n",
      "-rw-------  1 kasm-user kasm-user 1208 Aug 24 17:09 .ICEauthority\n",
      "drwxr-xr-x  5 kasm-user kasm-user 4096 Aug 22 19:13 .ipython\n",
      "-rw-------  1 kasm-user kasm-user  130 Aug 24 17:09 .kasmpasswd\n",
      "-rw-------  1 kasm-user kasm-user   20 Aug 22 18:39 .lesshst\n",
      "drwxr-xr-x  3 kasm-user kasm-user 4096 Aug 18 19:30 .local\n",
      "drwxr-xr-x  2 kasm-user kasm-user 4096 Aug 18 19:30 Music\n",
      "drwxr-xr-x  2 kasm-user kasm-user 4096 Aug 18 19:30 Pictures\n",
      "drwxrwxrwx  3 kasm-user kasm-user 4096 Aug 12 05:07 .pki\n",
      "drwxr-xr-x  2 kasm-user kasm-user 4096 Aug 18 19:30 Public\n",
      "drwxr-xr-x 12 kasm-user kasm-user 4096 Aug 18 19:31 teacher\n",
      "drwxr-xr-x  2 kasm-user kasm-user 4096 Aug 18 19:30 Templates\n",
      "drwxr-xr-x  2 kasm-user kasm-user 4096 Aug 18 19:30 Uploads\n",
      "drwxr-xr-x  2 kasm-user kasm-user 4096 Aug 18 19:30 Videos\n",
      "drwxr-xr-x  2 kasm-user kasm-user 4096 Aug 24 17:09 .vnc\n",
      "drwxr-xr-x  4 kasm-user kasm-user 4096 Aug 21 19:02 .vscode\n",
      "drwxr-xr-x  5 kasm-user kasm-user 4096 Aug 21 19:08 vscode\n",
      "-rw-rw-rw-  1 kasm-user kasm-user  183 Aug 12 12:37 .wget-hsts\n",
      "-rw-------  1 kasm-user kasm-user   98 Aug 24 17:09 .Xauthority\n"
     ]
    },
    {
     "name": "stderr",
     "output_type": "stream",
     "text": [
      "bash: line 3: /tmp/variables.sh: No such file or directory\n"
     ]
    }
   ],
   "source": [
    "%%script bash\n",
    "\n",
    "# Extract saved variables\n",
    "source /tmp/variables.sh\n",
    "\n",
    "echo \"Navigate to project, then navigate to area wwhere files were cloned\"\n",
    "cd $project\n",
    "pwd\n",
    "\n",
    "echo \"\"\n",
    "echo \"list all files in long format\"\n",
    "ls -al   # all files -a (hidden) in -l long listing"
   ]
  },
  {
   "cell_type": "code",
   "execution_count": 3,
   "metadata": {
    "vscode": {
     "languageId": "shellscript"
    }
   },
   "outputs": [
    {
     "name": "stdout",
     "output_type": "stream",
     "text": [
      "Look for posts\n",
      "/home/kasm-user/vscode/didactic-system/_notebooks\n",
      "total 48\n",
      "-rw-r--r-- 1 kasm-user kasm-user 24699 Aug 24 18:55 2023-08-16-linux_shell.ipynb\n",
      "-rw-r--r-- 1 kasm-user kasm-user  5415 Aug 21 19:08 2023-08-17-AP-pseudo-vs-python.ipynb\n",
      "-rw-r--r-- 1 kasm-user kasm-user  8982 Aug 21 19:08 2023-08-21-VSCode-GitHub_Pages.ipynb\n"
     ]
    },
    {
     "name": "stderr",
     "output_type": "stream",
     "text": [
      "bash: line 3: /tmp/variables.sh: No such file or directory\n",
      "bash: line 7: cd: /_posts: No such file or directory\n"
     ]
    }
   ],
   "source": [
    "%%script bash\n",
    "\n",
    "# Extract saved variables\n",
    "source /tmp/variables.sh\n",
    "\n",
    "echo \"Look for posts\"\n",
    "export posts=$project/_posts  # _posts inside project\n",
    "cd $posts  # this should exist per fastpages\n",
    "pwd  # present working directory\n",
    "ls -l  # list posts"
   ]
  },
  {
   "cell_type": "code",
   "execution_count": 4,
   "metadata": {
    "vscode": {
     "languageId": "shellscript"
    }
   },
   "outputs": [
    {
     "name": "stdout",
     "output_type": "stream",
     "text": [
      "Look for notebooks\n",
      "/home/kasm-user/vscode/didactic-system/_notebooks\n",
      "total 48\n",
      "-rw-r--r-- 1 kasm-user kasm-user 25406 Aug 24 18:55 2023-08-16-linux_shell.ipynb\n",
      "-rw-r--r-- 1 kasm-user kasm-user  5415 Aug 21 19:08 2023-08-17-AP-pseudo-vs-python.ipynb\n",
      "-rw-r--r-- 1 kasm-user kasm-user  8982 Aug 21 19:08 2023-08-21-VSCode-GitHub_Pages.ipynb\n"
     ]
    },
    {
     "name": "stderr",
     "output_type": "stream",
     "text": [
      "bash: line 3: /tmp/variables.sh: No such file or directory\n",
      "bash: line 7: cd: /_notebooks: No such file or directory\n"
     ]
    }
   ],
   "source": [
    "%%script bash\n",
    "\n",
    "# Extract saved variables\n",
    "source /tmp/variables.sh\n",
    "\n",
    "echo \"Look for notebooks\"\n",
    "export notebooks=$project/_notebooks  # _notebooks is inside project\n",
    "cd $notebooks   # this should exist per fastpages\n",
    "pwd  # present working directory\n",
    "ls -l  # list notebooks"
   ]
  },
  {
   "cell_type": "code",
   "execution_count": 5,
   "metadata": {
    "vscode": {
     "languageId": "shellscript"
    }
   },
   "outputs": [
    {
     "name": "stdout",
     "output_type": "stream",
     "text": [
      "Look for images in notebooks, print working directory, list files\n",
      "/home/kasm-user/vscode/didactic-system/_notebooks\n",
      "total 48\n",
      "-rw-r--r-- 1 kasm-user kasm-user 26121 Aug 24 18:56 2023-08-16-linux_shell.ipynb\n",
      "-rw-r--r-- 1 kasm-user kasm-user  5415 Aug 21 19:08 2023-08-17-AP-pseudo-vs-python.ipynb\n",
      "-rw-r--r-- 1 kasm-user kasm-user  8982 Aug 21 19:08 2023-08-21-VSCode-GitHub_Pages.ipynb\n"
     ]
    },
    {
     "name": "stderr",
     "output_type": "stream",
     "text": [
      "bash: line 3: /tmp/variables.sh: No such file or directory\n",
      "bash: line 6: cd: /images: No such file or directory\n"
     ]
    }
   ],
   "source": [
    "%%script bash\n",
    "\n",
    "# Extract saved variables\n",
    "source /tmp/variables.sh\n",
    "\n",
    "echo \"Look for images in notebooks, print working directory, list files\"\n",
    "cd $notebooks/images  # this should exist per fastpages\n",
    "pwd\n",
    "ls -l"
   ]
  },
  {
   "attachments": {},
   "cell_type": "markdown",
   "metadata": {},
   "source": [
    "### Look inside a Markdown File\n",
    "> \"cat\" reads data from the file and gives its content as output"
   ]
  },
  {
   "cell_type": "code",
   "execution_count": 6,
   "metadata": {
    "vscode": {
     "languageId": "shellscript"
    }
   },
   "outputs": [
    {
     "name": "stdout",
     "output_type": "stream",
     "text": [
      "Navigate to project, then navigate to area wwhere files were cloned\n",
      "show the contents of README.md\n",
      "\n",
      "\n",
      "end of README.md\n"
     ]
    },
    {
     "name": "stderr",
     "output_type": "stream",
     "text": [
      "bash: line 3: /tmp/variables.sh: No such file or directory\n",
      "cat: README.md: No such file or directory\n"
     ]
    }
   ],
   "source": [
    "%%script bash\n",
    "\n",
    "# Extract saved variables\n",
    "source /tmp/variables.sh\n",
    "\n",
    "echo \"Navigate to project, then navigate to area wwhere files were cloned\"\n",
    "\n",
    "cd $project\n",
    "echo \"show the contents of README.md\"\n",
    "echo \"\"\n",
    "\n",
    "cat README.md  # show contents of file, in this case markdown\n",
    "echo \"\"\n",
    "echo \"end of README.md\"\n"
   ]
  },
  {
   "attachments": {},
   "cell_type": "markdown",
   "metadata": {},
   "source": [
    "## Env, Git and GitHub\n",
    "> Env(ironment) is used to capture things like path to Code or Home directory.  Git and GitHub is NOT Only used to exchange code between individuals, it is often used to exchange code through servers, in our case deployment for Website.   All tools we use have a behind the scenes relationships with the system they run on (MacOS, Windows, Linus) or a relationship with servers which they are connected to (ie GitHub).  There is an \"env\" command in bash.  There are environment files and setting files (.git/config) for Git.  They both use a key/value concept.\n",
    "\n",
    "- \"env\" show setting for your shell\n",
    "- \"git clone\" sets up a director of files\n",
    "- \"cd $project\" allows user to move inside that directory of files\n",
    "- \".git\" is a hidden directory that is used by git to establish relationship between machine and the git server on GitHub.  "
   ]
  },
  {
   "cell_type": "code",
   "execution_count": 7,
   "metadata": {
    "vscode": {
     "languageId": "shellscript"
    }
   },
   "outputs": [
    {
     "name": "stdout",
     "output_type": "stream",
     "text": [
      "Show the shell environment variables, key on left of equal value on right\n",
      "\n",
      "SHELL=/bin/bash\n",
      "SESSION_MANAGER=local/kasm:@/tmp/.ICE-unix/84,unix/kasm:/tmp/.ICE-unix/84\n",
      "VNCOPTIONS=-PreferBandwidth -DynamicQualityMin=4 -DynamicQualityMax=7 -DLP_ClipDelay=0 -select-de manual\n",
      "XDG_CONFIG_DIRS=/etc/xdg\n",
      "PYTHONUNBUFFERED=1\n",
      "XDG_MENU_PREFIX=xfce-\n",
      "PULSE_RUNTIME_PATH=/var/run/pulse\n",
      "HOSTNAME=kasm\n",
      "LANGUAGE=en_US:en\n",
      "SDL_GAMECONTROLLERCONFIG=030000005e040000be02000014010000,XInput Controller,platform:Linux,a:b0,b:b1,x:b2,y:b3,back:b8,guide:b16,start:b9,leftstick:b10,rightstick:b11,leftshoulder:b4,rightshoulder:b5,dpup:b12,dpdown:b13,dpleft:b14,dpright:b15,leftx:a0,lefty:a1,rightx:a2,righty:a3,lefttrigger:b6,righttrigger:b7\n",
      "KASM_SVC_SEND_CUT_TEXT=-SendCutText 1\n",
      "DISTRO=ubuntu\n",
      "INST_DIR=/dockerstartup/install\n",
      "SSH_AUTH_SOCK=/tmp/ssh-XXXXXXixENJn/agent.138\n",
      "ELECTRON_RUN_AS_NODE=1\n",
      "START_PULSEAUDIO=1\n",
      "DESKTOP_SESSION=xfce\n",
      "SSH_AGENT_PID=139\n",
      "KASM_SVC_AUDIO_INPUT=1\n",
      "NO_AT_BRIDGE=1\n",
      "VSCODE_AMD_ENTRYPOINT=vs/workbench/api/node/extensionHostProcess\n",
      "KASM_SVC_AUDIO=1\n",
      "PWD=/home/kasm-user/vscode/didactic-system/_notebooks\n",
      "VNC_RESOLUTION=1366x612\n",
      "KASM_ID=1faee0cf-ed47-470b-a581-ab349a200d48\n",
      "NVIDIA_DRIVER_CAPABILITIES=graphics,compat32,utility\n",
      "PYDEVD_IPYTHON_COMPATIBLE_DEBUGGING=1\n",
      "VSCODE_CODE_CACHE_PATH=/home/kasm-user/.config/Code/CachedData/6c3e3dba23e8fadc360aed75ce363ba185c49794\n",
      "KASM_SVC_DOWNLOADS=1\n",
      "OMP_WAIT_POLICY=PASSIVE\n",
      "HOME=/home/kasm-user\n",
      "LANG=en_US.UTF-8\n",
      "XDG_CURRENT_DESKTOP=XFCE\n",
      "AUDIO_PORT=4901\n",
      "VSCODE_IPC_HOOK=/home/kasm-user/.config/Code/1.81-main.sock\n",
      "DONT_PROMPT_WSL_INSTALL=No_Prompt_please\n",
      "STARTUPDIR=/dockerstartup\n",
      "CLICOLOR=1\n",
      "VSCODE_L10N_BUNDLE_LOCATION=\n",
      "PROXYPATH=54d4ebbf-2104-40/f0b1d331-2f6f-4617-afe1-f0b5bc4d68cf\n",
      "SKIP_CLEAN=true\n",
      "CHROME_DESKTOP=code-url-handler.desktop\n",
      "KASM_SVC_GAMEPAD=0\n",
      "GEM_HOME=/home/kasm-user/gems\n",
      "TERM=xterm-color\n",
      "GOMP_SPINCOUNT=0\n",
      "GIT_PAGER=cat\n",
      "KASMVNC_AUTO_RECOVER=true\n",
      "VNC_COL_DEPTH=24\n",
      "KASM_SVC_UPLOADS=1\n",
      "PYTHONIOENCODING=utf-8\n",
      "START_XFCE4=1\n",
      "DISPLAY=:1.0\n",
      "VSCODE_PID=270\n",
      "SHLVL=1\n",
      "PAGER=cat\n",
      "MAX_FRAME_RATE=24\n",
      "VSCODE_CWD=/home/kasm-user\n",
      "KASM_VNC_PATH=/usr/share/kasmvnc\n",
      "MPLBACKEND=module://matplotlib_inline.backend_inline\n",
      "KASM_RX_HOME=/dockerstartup/kasmrx\n",
      "LD_LIBRARY_PATH=/usr/lib/x86_64-linux-gnu:/usr/lib/i386-linux-gnu:/opt/libjpeg-turbo/lib64/:/usr/local/lib/:/usr/local/nvidia/lib:/usr/local/nvidia/lib64\n",
      "VSCODE_CRASH_REPORTER_PROCESS_TYPE=extensionHost\n",
      "LC_ALL=en_US.UTF-8\n",
      "KASM_SVC_ACCEPT_CUT_TEXT=-AcceptCutText 1\n",
      "INST_SCRIPTS=/ubuntu/install/tools/install_tools.sh                   /ubuntu/install/chrome/install_chrome.sh                   /ubuntu/install/chromium/install_chromium.sh                   /ubuntu/install/sublime_text/install_sublime_text.sh                   /ubuntu/install/slack/install_slack.sh                   /ubuntu/install/vs_code/install_vs_code.sh                   /ubuntu/install/cleanup/cleanup.sh\n",
      "XDG_DATA_DIRS=/usr/local/share:/usr/share\n",
      "GDK_BACKEND=x11\n",
      "VNC_PORT=5901\n",
      "PATH=/bin:/home/kasm-user/.local/bin:/home/kasm-user/gems/bin:/home/kasm-user/gems/bin:/home/kasm-user/gems/bin:/usr/local/sbin:/usr/local/bin:/usr/sbin:/usr/bin:/sbin:/bin:/home/kasm-user/gems/bin:/home/kasm-user/gems/bin:/home/kasm-user/gems/bin:/usr/local/sbin:/usr/local/bin:/usr/sbin:/usr/bin:/sbin:/bin\n",
      "NO_VNC_PORT=6901\n",
      "ORIGINAL_XDG_CURRENT_DESKTOP=XFCE\n",
      "DBUS_SESSION_BUS_ADDRESS=unix:abstract=/tmp/dbus-ptzRzsgEp4,guid=a04912e893df6c515389175464e78ec8\n",
      "VSCODE_NLS_CONFIG={\"locale\":\"en-us\",\"osLocale\":\"en-us\",\"availableLanguages\":{},\"_languagePackSupport\":true}\n",
      "DEBIAN_FRONTEND=noninteractive\n",
      "VSCODE_HANDLES_UNCAUGHT_ERRORS=true\n",
      "_=/bin/env\n"
     ]
    }
   ],
   "source": [
    "%%script bash\n",
    "\n",
    "# This command has no dependencies\n",
    "\n",
    "echo \"Show the shell environment variables, key on left of equal value on right\"\n",
    "echo \"\"\n",
    "\n",
    "env"
   ]
  },
  {
   "cell_type": "code",
   "execution_count": 8,
   "metadata": {
    "vscode": {
     "languageId": "shellscript"
    }
   },
   "outputs": [
    {
     "name": "stdout",
     "output_type": "stream",
     "text": [
      "\n",
      "show the secrets of .git\n",
      "total 48\n",
      "drwxrwxrwx  2 kasm-user kasm-user 4096 Aug 18 19:30 Desktop\n",
      "drwxr-xr-x  2 kasm-user kasm-user 4096 Aug 18 19:30 Documents\n",
      "drwxr-xr-x  2 kasm-user kasm-user 4096 Aug 23 20:00 Downloads\n",
      "drwxr-xr-x 10 kasm-user kasm-user 4096 Aug 21 19:42 gems\n",
      "drwxr-xr-x  2 kasm-user kasm-user 4096 Aug 18 19:30 Music\n",
      "drwxr-xr-x  2 kasm-user kasm-user 4096 Aug 18 19:30 Pictures\n",
      "drwxr-xr-x  2 kasm-user kasm-user 4096 Aug 18 19:30 Public\n",
      "drwxr-xr-x 12 kasm-user kasm-user 4096 Aug 18 19:31 teacher\n",
      "drwxr-xr-x  2 kasm-user kasm-user 4096 Aug 18 19:30 Templates\n",
      "drwxr-xr-x  2 kasm-user kasm-user 4096 Aug 18 19:30 Uploads\n",
      "drwxr-xr-x  2 kasm-user kasm-user 4096 Aug 18 19:30 Videos\n",
      "drwxr-xr-x  5 kasm-user kasm-user 4096 Aug 21 19:08 vscode\n",
      "\n",
      "look at config file\n"
     ]
    },
    {
     "name": "stderr",
     "output_type": "stream",
     "text": [
      "bash: line 3: /tmp/variables.sh: No such file or directory\n",
      "bash: line 9: cd: .git: No such file or directory\n",
      "cat: config: No such file or directory\n"
     ]
    },
    {
     "ename": "CalledProcessError",
     "evalue": "Command 'b'\\n# Extract saved variables\\nsource /tmp/variables.sh\\n\\ncd $project\\n\\necho \"\"\\necho \"show the secrets of .git\"\\ncd .git\\nls -l\\n\\necho \"\"\\necho \"look at config file\"\\ncat config\\n'' returned non-zero exit status 1.",
     "output_type": "error",
     "traceback": [
      "\u001b[0;31m---------------------------------------------------------------------------\u001b[0m",
      "\u001b[0;31mCalledProcessError\u001b[0m                        Traceback (most recent call last)",
      "\u001b[0;32m/tmp/ipykernel_1749/2575089027.py\u001b[0m in \u001b[0;36m<module>\u001b[0;34m\u001b[0m\n\u001b[0;32m----> 1\u001b[0;31m \u001b[0mget_ipython\u001b[0m\u001b[0;34m(\u001b[0m\u001b[0;34m)\u001b[0m\u001b[0;34m.\u001b[0m\u001b[0mrun_cell_magic\u001b[0m\u001b[0;34m(\u001b[0m\u001b[0;34m'script'\u001b[0m\u001b[0;34m,\u001b[0m \u001b[0;34m'bash'\u001b[0m\u001b[0;34m,\u001b[0m \u001b[0;34m'\\n# Extract saved variables\\nsource /tmp/variables.sh\\n\\ncd $project\\n\\necho \"\"\\necho \"show the secrets of .git\"\\ncd .git\\nls -l\\n\\necho \"\"\\necho \"look at config file\"\\ncat config\\n'\u001b[0m\u001b[0;34m)\u001b[0m\u001b[0;34m\u001b[0m\u001b[0;34m\u001b[0m\u001b[0m\n\u001b[0m",
      "\u001b[0;32m/usr/lib/python3/dist-packages/IPython/core/interactiveshell.py\u001b[0m in \u001b[0;36mrun_cell_magic\u001b[0;34m(self, magic_name, line, cell)\u001b[0m\n\u001b[1;32m   2417\u001b[0m             \u001b[0;32mwith\u001b[0m \u001b[0mself\u001b[0m\u001b[0;34m.\u001b[0m\u001b[0mbuiltin_trap\u001b[0m\u001b[0;34m:\u001b[0m\u001b[0;34m\u001b[0m\u001b[0;34m\u001b[0m\u001b[0m\n\u001b[1;32m   2418\u001b[0m                 \u001b[0margs\u001b[0m \u001b[0;34m=\u001b[0m \u001b[0;34m(\u001b[0m\u001b[0mmagic_arg_s\u001b[0m\u001b[0;34m,\u001b[0m \u001b[0mcell\u001b[0m\u001b[0;34m)\u001b[0m\u001b[0;34m\u001b[0m\u001b[0;34m\u001b[0m\u001b[0m\n\u001b[0;32m-> 2419\u001b[0;31m                 \u001b[0mresult\u001b[0m \u001b[0;34m=\u001b[0m \u001b[0mfn\u001b[0m\u001b[0;34m(\u001b[0m\u001b[0;34m*\u001b[0m\u001b[0margs\u001b[0m\u001b[0;34m,\u001b[0m \u001b[0;34m**\u001b[0m\u001b[0mkwargs\u001b[0m\u001b[0;34m)\u001b[0m\u001b[0;34m\u001b[0m\u001b[0;34m\u001b[0m\u001b[0m\n\u001b[0m\u001b[1;32m   2420\u001b[0m             \u001b[0;32mreturn\u001b[0m \u001b[0mresult\u001b[0m\u001b[0;34m\u001b[0m\u001b[0;34m\u001b[0m\u001b[0m\n\u001b[1;32m   2421\u001b[0m \u001b[0;34m\u001b[0m\u001b[0m\n",
      "\u001b[0;32m<decorator-gen-103>\u001b[0m in \u001b[0;36mshebang\u001b[0;34m(self, line, cell)\u001b[0m\n",
      "\u001b[0;32m/usr/lib/python3/dist-packages/IPython/core/magic.py\u001b[0m in \u001b[0;36m<lambda>\u001b[0;34m(f, *a, **k)\u001b[0m\n\u001b[1;32m    185\u001b[0m     \u001b[0;31m# but it's overkill for just that one bit of state.\u001b[0m\u001b[0;34m\u001b[0m\u001b[0;34m\u001b[0m\u001b[0m\n\u001b[1;32m    186\u001b[0m     \u001b[0;32mdef\u001b[0m \u001b[0mmagic_deco\u001b[0m\u001b[0;34m(\u001b[0m\u001b[0marg\u001b[0m\u001b[0;34m)\u001b[0m\u001b[0;34m:\u001b[0m\u001b[0;34m\u001b[0m\u001b[0;34m\u001b[0m\u001b[0m\n\u001b[0;32m--> 187\u001b[0;31m         \u001b[0mcall\u001b[0m \u001b[0;34m=\u001b[0m \u001b[0;32mlambda\u001b[0m \u001b[0mf\u001b[0m\u001b[0;34m,\u001b[0m \u001b[0;34m*\u001b[0m\u001b[0ma\u001b[0m\u001b[0;34m,\u001b[0m \u001b[0;34m**\u001b[0m\u001b[0mk\u001b[0m\u001b[0;34m:\u001b[0m \u001b[0mf\u001b[0m\u001b[0;34m(\u001b[0m\u001b[0;34m*\u001b[0m\u001b[0ma\u001b[0m\u001b[0;34m,\u001b[0m \u001b[0;34m**\u001b[0m\u001b[0mk\u001b[0m\u001b[0;34m)\u001b[0m\u001b[0;34m\u001b[0m\u001b[0;34m\u001b[0m\u001b[0m\n\u001b[0m\u001b[1;32m    188\u001b[0m \u001b[0;34m\u001b[0m\u001b[0m\n\u001b[1;32m    189\u001b[0m         \u001b[0;32mif\u001b[0m \u001b[0mcallable\u001b[0m\u001b[0;34m(\u001b[0m\u001b[0marg\u001b[0m\u001b[0;34m)\u001b[0m\u001b[0;34m:\u001b[0m\u001b[0;34m\u001b[0m\u001b[0;34m\u001b[0m\u001b[0m\n",
      "\u001b[0;32m/usr/lib/python3/dist-packages/IPython/core/magics/script.py\u001b[0m in \u001b[0;36mshebang\u001b[0;34m(self, line, cell)\u001b[0m\n\u001b[1;32m    243\u001b[0m             \u001b[0msys\u001b[0m\u001b[0;34m.\u001b[0m\u001b[0mstderr\u001b[0m\u001b[0;34m.\u001b[0m\u001b[0mflush\u001b[0m\u001b[0;34m(\u001b[0m\u001b[0;34m)\u001b[0m\u001b[0;34m\u001b[0m\u001b[0;34m\u001b[0m\u001b[0m\n\u001b[1;32m    244\u001b[0m         \u001b[0;32mif\u001b[0m \u001b[0margs\u001b[0m\u001b[0;34m.\u001b[0m\u001b[0mraise_error\u001b[0m \u001b[0;32mand\u001b[0m \u001b[0mp\u001b[0m\u001b[0;34m.\u001b[0m\u001b[0mreturncode\u001b[0m\u001b[0;34m!=\u001b[0m\u001b[0;36m0\u001b[0m\u001b[0;34m:\u001b[0m\u001b[0;34m\u001b[0m\u001b[0;34m\u001b[0m\u001b[0m\n\u001b[0;32m--> 245\u001b[0;31m             \u001b[0;32mraise\u001b[0m \u001b[0mCalledProcessError\u001b[0m\u001b[0;34m(\u001b[0m\u001b[0mp\u001b[0m\u001b[0;34m.\u001b[0m\u001b[0mreturncode\u001b[0m\u001b[0;34m,\u001b[0m \u001b[0mcell\u001b[0m\u001b[0;34m,\u001b[0m \u001b[0moutput\u001b[0m\u001b[0;34m=\u001b[0m\u001b[0mout\u001b[0m\u001b[0;34m,\u001b[0m \u001b[0mstderr\u001b[0m\u001b[0;34m=\u001b[0m\u001b[0merr\u001b[0m\u001b[0;34m)\u001b[0m\u001b[0;34m\u001b[0m\u001b[0;34m\u001b[0m\u001b[0m\n\u001b[0m\u001b[1;32m    246\u001b[0m \u001b[0;34m\u001b[0m\u001b[0m\n\u001b[1;32m    247\u001b[0m     \u001b[0;32mdef\u001b[0m \u001b[0m_run_script\u001b[0m\u001b[0;34m(\u001b[0m\u001b[0mself\u001b[0m\u001b[0;34m,\u001b[0m \u001b[0mp\u001b[0m\u001b[0;34m,\u001b[0m \u001b[0mcell\u001b[0m\u001b[0;34m,\u001b[0m \u001b[0mto_close\u001b[0m\u001b[0;34m)\u001b[0m\u001b[0;34m:\u001b[0m\u001b[0;34m\u001b[0m\u001b[0;34m\u001b[0m\u001b[0m\n",
      "\u001b[0;31mCalledProcessError\u001b[0m: Command 'b'\\n# Extract saved variables\\nsource /tmp/variables.sh\\n\\ncd $project\\n\\necho \"\"\\necho \"show the secrets of .git\"\\ncd .git\\nls -l\\n\\necho \"\"\\necho \"look at config file\"\\ncat config\\n'' returned non-zero exit status 1."
     ]
    }
   ],
   "source": [
    "%%script bash\n",
    "\n",
    "# Extract saved variables\n",
    "source /tmp/variables.sh\n",
    "\n",
    "cd $project\n",
    "\n",
    "echo \"\"\n",
    "echo \"show the secrets of .git\"\n",
    "cd .git\n",
    "ls -l\n",
    "\n",
    "echo \"\"\n",
    "echo \"look at config file\"\n",
    "cat config"
   ]
  },
  {
   "attachments": {},
   "cell_type": "markdown",
   "metadata": {},
   "source": [
    "## Advanced Student Request - Make a file in Bash\n",
    "> This example was requested by a student (Jun Lim, CSA). The request was to make jupyer file using bash, I adapted the request to markdown.  This type of thought will have great extrapolation to coding and possibilities of using List, Arrays, or APIs to build user interfaces.  JavaScript is a language where building HTML is very common.\n",
    "\n",
    "> To get more interesting output from terminal, this will require using something like mdless (https://github.com/ttscoff/mdless).  This enables see markdown in rendered format.\n",
    "- On Desktop [Install PKG from MacPorts](https://www.macports.org/install.php)\n",
    "- In Terminal on MacOS\n",
    "    - [Install ncurses](https://ports.macports.org/port/ncurses/)\n",
    "    - ```gem install mdless```\n",
    "    \n",
    "> Output of the example is much nicer in \"jupyter\""
   ]
  },
  {
   "cell_type": "code",
   "execution_count": 9,
   "metadata": {
    "vscode": {
     "languageId": "shellscript"
    }
   },
   "outputs": [
    {
     "name": "stdout",
     "output_type": "stream",
     "text": [
      "\n",
      "File listing and status\n",
      "-rw-r--r-- 1 kasm-user kasm-user 809 Aug 24 18:57 sample.md\n",
      " 15 132 809 sample.md\n"
     ]
    },
    {
     "name": "stderr",
     "output_type": "stream",
     "text": [
      "bash: line 30: mdless: command not found\n"
     ]
    }
   ],
   "source": [
    "%%script bash\n",
    "\n",
    "# This example has error in VSCode, it run best on Jupyter\n",
    "cd /tmp\n",
    "\n",
    "file=\"sample.md\"\n",
    "if [ -f \"$file\" ]; then\n",
    "    rm $file\n",
    "fi\n",
    "\n",
    "tee -a $file >/dev/null <<EOF\n",
    "# Show Generated Markdown\n",
    "This introductory paragraph and this line and the title above are generated using tee with the standard input (<<) redirection operator.\n",
    "- This bulleted element is still part of the tee body.\n",
    "EOF\n",
    "\n",
    "echo \"- This bulleted element and lines below are generated using echo with standard output (>>) redirection operator.\" >> $file\n",
    "echo \"- The list definition, as is, is using space to seperate lines.  Thus the use of commas and hyphens in output.\" >> $file\n",
    "actions=(\"ls,list-directory\" \"cd,change-directory\" \"pwd,present-working-directory\" \"if-then-fi,test-condition\" \"env,bash-environment-variables\" \"cat,view-file-contents\" \"tee,write-to-output\" \"echo,display-content-of-string\" \"echo_text_>\\$file,write-content-to-file\" \"echo_text_>>\\$file,append-content-to-file\")\n",
    "for action in ${actions[@]}; do  # for loop is very similar to other language, though [@], semi-colon, do are new\n",
    "  action=${action//-/ }  # convert dash to space\n",
    "  action=${action//,/: } # convert comma to colon\n",
    "  action=${action//_text_/ \\\"sample text\\\" } # convert _text_ to sample text, note escape character \\ to avoid \"\" having meaning\n",
    "  echo \"    - ${action//-/ }\" >> $file  # echo is redirected to file with >>\n",
    "done\n",
    "\n",
    "echo \"\"\n",
    "echo \"File listing and status\"\n",
    "ls -l $file # list file\n",
    "wc $file   # show words\n",
    "mdless $file  # this requires installation, but renders markown from terminal\n",
    "\n",
    "rm $file  # clean up termporary file"
   ]
  },
  {
   "attachments": {},
   "cell_type": "markdown",
   "metadata": {},
   "source": [
    "## Hack Preparation.\n",
    "> Review Tool Setup Procedures and think about some thing you could verify through a Shell notebook.\n",
    "- Come up with your own student view of this procedure to show your tools are installed.  It is best that you keep the few things you understand, add things later as you start to understand them.\n",
    "- Name and create blog notes on some Linux commands you will use frequently.\n",
    "- Is there anything we use to verify tools we installed? Review versions?\n",
    "- How would you update a repository?  Use the git command line? \n"
   ]
  }
 ],
 "metadata": {
  "kernelspec": {
   "display_name": "Python 3.10.6 64-bit",
   "language": "python",
   "name": "python3"
  },
  "language_info": {
   "codemirror_mode": {
    "name": "ipython",
    "version": 3
   },
   "file_extension": ".py",
   "mimetype": "text/x-python",
   "name": "python",
   "nbconvert_exporter": "python",
   "pygments_lexer": "ipython3",
   "version": "3.10.12"
  },
  "vscode": {
   "interpreter": {
    "hash": "aee8b7b246df8f9039afb4144a1f6fd8d2ca17a180786b69acc140d282b71a49"
   }
  }
 },
 "nbformat": 4,
 "nbformat_minor": 2
}
