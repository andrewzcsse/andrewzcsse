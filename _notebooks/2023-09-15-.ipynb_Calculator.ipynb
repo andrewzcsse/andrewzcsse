{
 "cells": [
  {
   "cell_type": "markdown",
   "metadata": {},
   "source": [
    "---\n",
    "comments: false\n",
    "toc: true\n",
    "title: .ipynb Claculator\n",
    "description: .ipynb version of the calculator project\n",
    "type: hacks\n",
    "layout: post\n",
    "courses: { compsci: {week: 4} }\n",
    "---"
   ]
  },
  {
   "cell_type": "code",
   "execution_count": null,
   "metadata": {},
   "outputs": [],
   "source": []
  }
 ],
 "metadata": {
  "language_info": {
   "name": "python"
  },
  "orig_nbformat": 4
 },
 "nbformat": 4,
 "nbformat_minor": 2
}
