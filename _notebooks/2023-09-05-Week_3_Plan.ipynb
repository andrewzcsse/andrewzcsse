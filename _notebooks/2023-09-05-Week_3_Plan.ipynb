{
 "cells": [
  {
   "cell_type": "markdown",
   "metadata": {},
   "source": [
    "---\n",
    "toc: true\n",
    "comments: false\n",
    "layout: post\n",
    "title: Week 3 Plan\n",
    "type: plans\n",
    "description: Summary of what I plan to accomplish in week 3\n",
    "courses: { compsci: {week: 3} }\n",
    "---"
   ]
  },
  {
   "cell_type": "markdown",
   "metadata": {},
   "source": [
    "# Week 3 Plans\n",
    "- I will learn how to implement my coding practice into a Jupyter notebook in preparation for the pair showcase\n",
    "- I will try to edit snake game for pair showcase\n",
    "- I will figure out how I should proceed with using .md or using jupyter notebook to make additions to my time box\n",
    "- Need to make a plan for how I will edit my blog in preparation for pair showcase"
   ]
  }
 ],
 "metadata": {
  "language_info": {
   "name": "python"
  },
  "orig_nbformat": 4
 },
 "nbformat": 4,
 "nbformat_minor": 2
}
